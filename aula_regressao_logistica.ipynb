{
 "cells": [
  {
   "cell_type": "markdown",
   "id": "d99a43cd",
   "metadata": {},
   "source": [
    "### Modelos de Classificação vs. Modelos de Regressão\n",
    "\n",
    "Como já vimos, modelos de **Regressão Linear** são excelentes para prever valores contínuos, como o preço de um imóvel ou a quantidade de vendas de um produto.\n",
    "\n",
    "Entretanto, em muitos cenários, queremos prever uma categoria, não um número. Por exemplo:\n",
    "- Este e-mail é *spam* ou *não spam*?\n",
    "- Este cliente irá *cancelar* ou *não cancelar* a assinatura?\n",
    "- O paciente está *doente* ou *saudável*?\n",
    "\n",
    "Para esses casos, usamos os **Modelos de Classificação**. Eles nos ajudam a classificar uma observação em uma de duas ou mais categorias."
   ]
  },
  {
   "cell_type": "markdown",
   "id": "a4ed9db1",
   "metadata": {},
   "source": [
    "### O que é a Regressão Logística?\n",
    "\n",
    "Apesar do nome \"Regressão\", a Regressão Logística é um **modelo de classificação**. Ela é o nosso ponto de partida por ser uma técnica poderosa e fundamental.\n",
    "\n",
    "A ideia central é modelar a **probabilidade** de uma observação pertencer a uma determinada classe. Por exemplo, a probabilidade de um e-mail ser spam, dado o seu conteúdo.\n",
    "\n",
    "Para fazer isso, precisamos entender um conceito estatístico chave: **Odds (Chance)**."
   ]
  },
  {
   "cell_type": "markdown",
   "id": "945de245",
   "metadata": {},
   "source": [
    "<img src=\"regressao_logistica.png\"/>\n"
   ]
  },
  {
   "cell_type": "markdown",
   "id": "5f868c7b",
   "metadata": {},
   "source": [
    "## Passo 1: Entendendo o Conceito de Odds (Chance)\n",
    "\n",
    "Em estatística, **Odds** (ou **Chance**, em português) é uma forma de expressar a probabilidade. Ela representa a razão entre a probabilidade de um evento acontecer (sucesso) e a probabilidade de ele não acontecer (fracasso).\n",
    "\n",
    "A fórmula é bem simples:\n",
    "\n",
    "$$\\text{Odds} = \\frac{P}{1 - P}$$\n",
    "\n",
    "Onde \\( P \\) é a probabilidade de sucesso."
   ]
  },
  {
   "cell_type": "markdown",
   "id": "9254013f",
   "metadata": {},
   "source": [
    "#### 💡 Exemplo Prático (Matemática Primeiro!)\n",
    "\n",
    "Vamos supor que a probabilidade de um aluno ser aprovado em um exame é de 80% (ou \\( P = 0,8 \\)).\n",
    "\n",
    "Qual é a chance (Odds) de ele ser aprovado?\n",
    "\n",
    "1.  **Probabilidade de sucesso (P)**: \\( 0,8 \\)\n",
    "2.  **Probabilidade de fracasso (1 - P)**: \\( 1 - 0,8 = 0,2 \\)\n",
    "\n",
    "Agora, aplicamos a fórmula:\n",
    "\n",
    "$\\text{Odds de Aprovação} = \\frac{0,8}{0,2} = 4$\n",
    "\n",
    "> **Interpretação:** A chance de um aluno ser aprovado é de **4 para 1**. Ou seja, é 4 vezes mais provável que ele seja aprovado do que não seja."
   ]
  },
  {
   "cell_type": "code",
   "execution_count": 1,
   "id": "4a587b34",
   "metadata": {},
   "outputs": [
    {
     "name": "stdout",
     "output_type": "stream",
     "text": [
      "A probabilidade de sucesso é: 0.8\n",
      "As Odds de sucesso são: 4.0 para 1\n"
     ]
    }
   ],
   "source": [
    "# Agora, vamos replicar o cálculo com Python\n",
    "p_sucesso = 0.8\n",
    "\n",
    "# Calculando as Odds\n",
    "odds = p_sucesso / (1 - p_sucesso)\n",
    "\n",
    "print(f\"A probabilidade de sucesso é: {p_sucesso}\")\n",
    "print(f\"As Odds de sucesso são: {odds:.1f} para 1\")"
   ]
  },
  {
   "cell_type": "markdown",
   "id": "82ba2e3b",
   "metadata": {},
   "source": [
    "## Passo 2: A Mágica do Logaritmo - O Log-Odds\n",
    "\n",
    "Você pode se perguntar: *\"Por que não modelamos a probabilidade diretamente?\"*\n",
    "\n",
    "A resposta é que a probabilidade é restrita (entre 0 e 1), mas os modelos lineares (como a base da regressão logística) podem prever qualquer valor de -∞ a +∞. Precisamos de uma forma de \"esticar\" a escala de probabilidade.\n",
    "\n",
    "É aqui que entra o **logaritmo natural**! Ao aplicarmos o `log` nas Odds, criamos o **Log-Odds** (ou **Logit**).\n",
    "\n",
    "$$\\text{Log-Odds} = \\log(\\text{Odds}) = \\log\\left( \\frac{P}{1 - P} \\right)$$\n",
    "\n",
    "O Log-Odds transforma a escala de `(0, 1)` para `(-∞, +∞)`, que é exatamente o que um modelo linear precisa!\n",
    "\n",
    "**A sacada da Regressão Logística é modelar o Log-Odds como uma combinação linear das nossas variáveis**, assim como na regressão linear simples!\n",
    "\n",
    "$$\\log\\left( \\frac{P}{1 - P} \\right) = z = \\theta_0 + \\theta_1 x_1 + \\theta_2 x_2 + \\dots + \\theta_n x_n$$"
   ]
  },
  {
   "cell_type": "markdown",
   "id": "3c4e2579",
   "metadata": {},
   "source": [
    "#### 💡 Continuando nosso Exemplo\n",
    "\n",
    "Já calculamos que as Odds de aprovação são 4. Agora, vamos calcular o Log-Odds.\n",
    "\n",
    "**Matematicamente:**\n",
    "$\\text{Log-Odds} = \\log(4) \\approx 1.386$"
   ]
  },
  {
   "cell_type": "code",
   "execution_count": 2,
   "id": "f835e45b",
   "metadata": {},
   "outputs": [
    {
     "name": "stdout",
     "output_type": "stream",
     "text": [
      "O valor de Log-Odds (z) é: 1.3863\n"
     ]
    }
   ],
   "source": [
    "import numpy as np\n",
    "\n",
    "# O valor 'z' representa o resultado da equação linear (o Log-Odds)\n",
    "z = np.log(odds)\n",
    "\n",
    "print(f\"O valor de Log-Odds (z) é: {z:.4f}\")"
   ]
  },
  {
   "cell_type": "markdown",
   "id": "15d8ea1f",
   "metadata": {},
   "source": [
    "## Passo 3: Revertendo o Processo com a Função Sigmoide\n",
    "\n",
    "Ótimo! O modelo vai nos dar um valor `z` (o Log-Odds). Mas no final do dia, queremos uma **probabilidade** (algo entre 0 e 1), que é muito mais fácil de interpretar.\n",
    "\n",
    "Para fazer o caminho de volta (de Log-Odds para Probabilidade), usamos a função inversa, chamada de **Função Sigmoide** (ou Função Logística).\n",
    "\n",
    "$$P = \\frac{1}{1 + e^{-z}}$$\n",
    "\n",
    "Essa função \"espreme\" qualquer número real (de -∞ a +∞) para dentro do intervalo `(0, 1)`, resultando em uma curva em formato de \"S\"."
   ]
  },
  {
   "cell_type": "markdown",
   "id": "5e1b0e19",
   "metadata": {},
   "source": [
    "#### 💡 Finalizando nosso Exemplo\n",
    "\n",
    "Nosso modelo previu um Log-Odds (`z`) de `1.386`. Vamos aplicar a função Sigmoide para encontrar a probabilidade original.\n",
    "\n",
    "**Matematicamente:**\n",
    "$P = \\frac{1}{1 + e^{-1.386}} = \\frac{1}{1 + 0.25} = \\frac{1}{1.25} = 0.8$\n",
    "\n",
    "Chegamos de volta à nossa probabilidade inicial de 80%! Isso mostra que o Log-Odds e a Sigmoide são operações inversas."
   ]
  },
  {
   "cell_type": "code",
   "execution_count": 3,
   "id": "a4ef7292",
   "metadata": {},
   "outputs": [
    {
     "name": "stdout",
     "output_type": "stream",
     "text": [
      "O valor de Log-Odds (z) era: 1.3863\n",
      "A probabilidade revertida pela função Sigmoide é: 0.8\n"
     ]
    }
   ],
   "source": [
    "# Vamos criar a função sigmoide em Python\n",
    "def sigmoid(z):\n",
    "    return 1 / (1 + np.exp(-z))\n",
    "\n",
    "# Revertendo o Log-Odds (z) para a probabilidade original\n",
    "probabilidade_revertida = sigmoid(z)\n",
    "\n",
    "print(f\"O valor de Log-Odds (z) era: {z:.4f}\")\n",
    "print(f\"A probabilidade revertida pela função Sigmoide é: {probabilidade_revertida:.1f}\")"
   ]
  },
  {
   "cell_type": "markdown",
   "id": "b1d379d0",
   "metadata": {},
   "source": [
    "## Resumo: A Fórmula Completa da Regressão Logística\n",
    "\n",
    "Juntando tudo, o modelo de Regressão Logística faz duas coisas:\n",
    "\n",
    "1.  **Calcula o Log-Odds (z)** como uma função linear das variáveis de entrada $ (x_1, x_2, ...) $:\n",
    "    $$z = \\theta_0 + \\theta_1 x_1 + \\dots + \\theta_n x_n$$\n",
    "\n",
    "2.  **Aplica a Função Sigmoide** em `z` para obter a probabilidade final da classe ser 1 (sucesso):\n",
    "    $$\\hat{y} = P(y=1) = \\sigma(z) = \\frac{1}{1 + e^{-z}}$$\n",
    "\n",
    "### E como o modelo aprende os coeficientes (θ)?\n",
    "\n",
    "O modelo utiliza um processo de otimização, como o **Gradiente Descendente**, para encontrar os melhores valores para os coeficientes $ \\theta_0, \\theta_1, \\dots, \\theta_n $. O objetivo é ajustar esses valores de forma que as probabilidades previstas pelo modelo $ \\hat{y} $ fiquem o mais próximo possível dos resultados reais (0 ou 1) no conjunto de dados de treino. Mas isso é um tópico para a nossa próxima aula!"
   ]
  },
  {
   "cell_type": "markdown",
   "id": "bb5f4523",
   "metadata": {},
   "source": [
    "## 📌 Resumo dos Conceitos\n",
    "\n",
    "| Conceito      | Fórmula                               | O que representa?                          |\n",
    "|---------------|----------------------------------------|--------------------------------------------|\n",
    "| Odds (Chance) | $\\frac{P}{1 - P}$                 | A razão entre sucesso e fracasso. |\n",
    "| Log-Odds      | $\\log\\left( \\frac{P}{1 - P} \\right)$ | A escala linear que o modelo usa para trabalhar. |\n",
    "| Sigmoide      | $\\frac{1}{1 + e^{-z}}$                | Converte o Log-Odds de volta em probabilidade. |\n",
    "\n",
    "Espero que esta explicação tenha clareado as coisas! A Regressão Logística é uma ferramenta fantástica e entender sua base matemática te dará muito mais confiança.\n",
    "\n",
    "**Alguma dúvida até aqui? Qual tópico você gostaria de explorar a seguir? Que tal aplicarmos isso a um conjunto de dados real?**"
   ]
  }
 ],
 "metadata": {
  "kernelspec": {
   "display_name": "Python 3",
   "language": "python",
   "name": "python3"
  },
  "language_info": {
   "codemirror_mode": {
    "name": "ipython",
    "version": 3
   },
   "file_extension": ".py",
   "mimetype": "text/x-python",
   "name": "python",
   "nbconvert_exporter": "python",
   "pygments_lexer": "ipython3",
   "version": "3.13.2"
  }
 },
 "nbformat": 4,
 "nbformat_minor": 5
}
